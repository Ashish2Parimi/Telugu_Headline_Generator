{
  "nbformat": 4,
  "nbformat_minor": 0,
  "metadata": {
    "colab": {
      "name": "Untitled8.ipynb",
      "provenance": [],
      "authorship_tag": "ABX9TyP7qdk2vXkoZsIih3Iq9kJO",
      "include_colab_link": true
    },
    "kernelspec": {
      "name": "python3",
      "display_name": "Python 3"
    },
    "language_info": {
      "name": "python"
    }
  },
  "cells": [
    {
      "cell_type": "markdown",
      "metadata": {
        "id": "view-in-github",
        "colab_type": "text"
      },
      "source": [
        "<a href=\"https://colab.research.google.com/github/Ashish2Parimi/Telugu_Headline_Generator/blob/main/sentence_piece.ipynb\" target=\"_parent\"><img src=\"https://colab.research.google.com/assets/colab-badge.svg\" alt=\"Open In Colab\"/></a>"
      ]
    },
    {
      "cell_type": "code",
      "metadata": {
        "id": "mQggO9OiHmsb"
      },
      "source": [
        "import pandas as pd\n",
        "data = pd.read_csv('/content/data.csv')\n",
        "\n",
        "data = data.applymap(lambda x: str(x) if isinstance(x, int) or isinstance(x, float) else x)\n",
        "\n",
        "\n",
        "\n",
        "\n",
        "START = '÷'\n",
        "END = '■'  \n",
        "    \n",
        "data['body'] = START + ' ' + data['body'] + ' ' + END \n",
        "data['heading'] = START + ' ' + data['heading'] + ' ' + END "
      ],
      "execution_count": 2,
      "outputs": []
    },
    {
      "cell_type": "code",
      "metadata": {
        "id": "ACSzEJoJISd2"
      },
      "source": [
        "h = list(data['heading']+ ' '+data['body'])\n",
        "\n",
        "d = ' '.join(h)"
      ],
      "execution_count": 15,
      "outputs": []
    },
    {
      "cell_type": "code",
      "metadata": {
        "colab": {
          "base_uri": "https://localhost:8080/"
        },
        "id": "ln2PdET-OhXD",
        "outputId": "3142040c-bc7b-4332-acd6-ecb10cc02acf"
      },
      "source": [
        "len(h)-len(d)"
      ],
      "execution_count": 14,
      "outputs": [
        {
          "output_type": "execute_result",
          "data": {
            "text/plain": [
              "-30283974"
            ]
          },
          "metadata": {
            "tags": []
          },
          "execution_count": 14
        }
      ]
    },
    {
      "cell_type": "code",
      "metadata": {
        "colab": {
          "base_uri": "https://localhost:8080/",
          "height": 195
        },
        "id": "CouKrzkDIiCa",
        "outputId": "3d36649b-2b1e-4c5e-92e0-13ab535c4920"
      },
      "source": [
        "text_file = open(\"heading.txt\", \"w\")\n",
        "n = text_file.write(h)\n",
        "text_file.close()"
      ],
      "execution_count": 16,
      "outputs": [
        {
          "output_type": "error",
          "ename": "TypeError",
          "evalue": "ignored",
          "traceback": [
            "\u001b[0;31m---------------------------------------------------------------------------\u001b[0m",
            "\u001b[0;31mTypeError\u001b[0m                                 Traceback (most recent call last)",
            "\u001b[0;32m<ipython-input-16-0f1f550fc280>\u001b[0m in \u001b[0;36m<module>\u001b[0;34m()\u001b[0m\n\u001b[1;32m      1\u001b[0m \u001b[0mtext_file\u001b[0m \u001b[0;34m=\u001b[0m \u001b[0mopen\u001b[0m\u001b[0;34m(\u001b[0m\u001b[0;34m\"heading.txt\"\u001b[0m\u001b[0;34m,\u001b[0m \u001b[0;34m\"w\"\u001b[0m\u001b[0;34m)\u001b[0m\u001b[0;34m\u001b[0m\u001b[0;34m\u001b[0m\u001b[0m\n\u001b[0;32m----> 2\u001b[0;31m \u001b[0mn\u001b[0m \u001b[0;34m=\u001b[0m \u001b[0mtext_file\u001b[0m\u001b[0;34m.\u001b[0m\u001b[0mwrite\u001b[0m\u001b[0;34m(\u001b[0m\u001b[0mh\u001b[0m\u001b[0;34m)\u001b[0m\u001b[0;34m\u001b[0m\u001b[0;34m\u001b[0m\u001b[0m\n\u001b[0m\u001b[1;32m      3\u001b[0m \u001b[0mtext_file\u001b[0m\u001b[0;34m.\u001b[0m\u001b[0mclose\u001b[0m\u001b[0;34m(\u001b[0m\u001b[0;34m)\u001b[0m\u001b[0;34m\u001b[0m\u001b[0;34m\u001b[0m\u001b[0m\n",
            "\u001b[0;31mTypeError\u001b[0m: write() argument must be str, not list"
          ]
        }
      ]
    },
    {
      "cell_type": "code",
      "metadata": {
        "id": "wgQS5usjIo2K"
      },
      "source": [
        "text_file = open(\"data.txt\", \"w\")\n",
        "n = text_file.write(d)\n",
        "text_file.close()"
      ],
      "execution_count": 17,
      "outputs": []
    },
    {
      "cell_type": "code",
      "metadata": {
        "colab": {
          "base_uri": "https://localhost:8080/"
        },
        "id": "cQY9uvvhI2AB",
        "outputId": "5c2b1ce4-8d6d-47a7-fb0c-f044a86f057f"
      },
      "source": [
        "!pip install sentencepiece\n"
      ],
      "execution_count": 6,
      "outputs": [
        {
          "output_type": "stream",
          "text": [
            "Collecting sentencepiece\n",
            "\u001b[?25l  Downloading https://files.pythonhosted.org/packages/f5/99/e0808cb947ba10f575839c43e8fafc9cc44e4a7a2c8f79c60db48220a577/sentencepiece-0.1.95-cp37-cp37m-manylinux2014_x86_64.whl (1.2MB)\n",
            "\r\u001b[K     |▎                               | 10kB 10.0MB/s eta 0:00:01\r\u001b[K     |▌                               | 20kB 15.6MB/s eta 0:00:01\r\u001b[K     |▉                               | 30kB 20.4MB/s eta 0:00:01\r\u001b[K     |█                               | 40kB 24.5MB/s eta 0:00:01\r\u001b[K     |█▍                              | 51kB 16.0MB/s eta 0:00:01\r\u001b[K     |█▋                              | 61kB 15.3MB/s eta 0:00:01\r\u001b[K     |██                              | 71kB 13.9MB/s eta 0:00:01\r\u001b[K     |██▏                             | 81kB 11.6MB/s eta 0:00:01\r\u001b[K     |██▌                             | 92kB 11.8MB/s eta 0:00:01\r\u001b[K     |██▊                             | 102kB 12.4MB/s eta 0:00:01\r\u001b[K     |███                             | 112kB 12.4MB/s eta 0:00:01\r\u001b[K     |███▎                            | 122kB 12.4MB/s eta 0:00:01\r\u001b[K     |███▌                            | 133kB 12.4MB/s eta 0:00:01\r\u001b[K     |███▉                            | 143kB 12.4MB/s eta 0:00:01\r\u001b[K     |████                            | 153kB 12.4MB/s eta 0:00:01\r\u001b[K     |████▍                           | 163kB 12.4MB/s eta 0:00:01\r\u001b[K     |████▋                           | 174kB 12.4MB/s eta 0:00:01\r\u001b[K     |█████                           | 184kB 12.4MB/s eta 0:00:01\r\u001b[K     |█████▏                          | 194kB 12.4MB/s eta 0:00:01\r\u001b[K     |█████▌                          | 204kB 12.4MB/s eta 0:00:01\r\u001b[K     |█████▊                          | 215kB 12.4MB/s eta 0:00:01\r\u001b[K     |██████                          | 225kB 12.4MB/s eta 0:00:01\r\u001b[K     |██████▎                         | 235kB 12.4MB/s eta 0:00:01\r\u001b[K     |██████▌                         | 245kB 12.4MB/s eta 0:00:01\r\u001b[K     |██████▉                         | 256kB 12.4MB/s eta 0:00:01\r\u001b[K     |███████                         | 266kB 12.4MB/s eta 0:00:01\r\u001b[K     |███████▍                        | 276kB 12.4MB/s eta 0:00:01\r\u001b[K     |███████▋                        | 286kB 12.4MB/s eta 0:00:01\r\u001b[K     |████████                        | 296kB 12.4MB/s eta 0:00:01\r\u001b[K     |████████▏                       | 307kB 12.4MB/s eta 0:00:01\r\u001b[K     |████████▍                       | 317kB 12.4MB/s eta 0:00:01\r\u001b[K     |████████▊                       | 327kB 12.4MB/s eta 0:00:01\r\u001b[K     |█████████                       | 337kB 12.4MB/s eta 0:00:01\r\u001b[K     |█████████▎                      | 348kB 12.4MB/s eta 0:00:01\r\u001b[K     |█████████▌                      | 358kB 12.4MB/s eta 0:00:01\r\u001b[K     |█████████▉                      | 368kB 12.4MB/s eta 0:00:01\r\u001b[K     |██████████                      | 378kB 12.4MB/s eta 0:00:01\r\u001b[K     |██████████▍                     | 389kB 12.4MB/s eta 0:00:01\r\u001b[K     |██████████▋                     | 399kB 12.4MB/s eta 0:00:01\r\u001b[K     |███████████                     | 409kB 12.4MB/s eta 0:00:01\r\u001b[K     |███████████▏                    | 419kB 12.4MB/s eta 0:00:01\r\u001b[K     |███████████▍                    | 430kB 12.4MB/s eta 0:00:01\r\u001b[K     |███████████▊                    | 440kB 12.4MB/s eta 0:00:01\r\u001b[K     |████████████                    | 450kB 12.4MB/s eta 0:00:01\r\u001b[K     |████████████▎                   | 460kB 12.4MB/s eta 0:00:01\r\u001b[K     |████████████▌                   | 471kB 12.4MB/s eta 0:00:01\r\u001b[K     |████████████▉                   | 481kB 12.4MB/s eta 0:00:01\r\u001b[K     |█████████████                   | 491kB 12.4MB/s eta 0:00:01\r\u001b[K     |█████████████▍                  | 501kB 12.4MB/s eta 0:00:01\r\u001b[K     |█████████████▋                  | 512kB 12.4MB/s eta 0:00:01\r\u001b[K     |█████████████▉                  | 522kB 12.4MB/s eta 0:00:01\r\u001b[K     |██████████████▏                 | 532kB 12.4MB/s eta 0:00:01\r\u001b[K     |██████████████▍                 | 542kB 12.4MB/s eta 0:00:01\r\u001b[K     |██████████████▊                 | 552kB 12.4MB/s eta 0:00:01\r\u001b[K     |███████████████                 | 563kB 12.4MB/s eta 0:00:01\r\u001b[K     |███████████████▎                | 573kB 12.4MB/s eta 0:00:01\r\u001b[K     |███████████████▌                | 583kB 12.4MB/s eta 0:00:01\r\u001b[K     |███████████████▉                | 593kB 12.4MB/s eta 0:00:01\r\u001b[K     |████████████████                | 604kB 12.4MB/s eta 0:00:01\r\u001b[K     |████████████████▍               | 614kB 12.4MB/s eta 0:00:01\r\u001b[K     |████████████████▋               | 624kB 12.4MB/s eta 0:00:01\r\u001b[K     |████████████████▉               | 634kB 12.4MB/s eta 0:00:01\r\u001b[K     |█████████████████▏              | 645kB 12.4MB/s eta 0:00:01\r\u001b[K     |█████████████████▍              | 655kB 12.4MB/s eta 0:00:01\r\u001b[K     |█████████████████▊              | 665kB 12.4MB/s eta 0:00:01\r\u001b[K     |██████████████████              | 675kB 12.4MB/s eta 0:00:01\r\u001b[K     |██████████████████▎             | 686kB 12.4MB/s eta 0:00:01\r\u001b[K     |██████████████████▌             | 696kB 12.4MB/s eta 0:00:01\r\u001b[K     |██████████████████▉             | 706kB 12.4MB/s eta 0:00:01\r\u001b[K     |███████████████████             | 716kB 12.4MB/s eta 0:00:01\r\u001b[K     |███████████████████▎            | 727kB 12.4MB/s eta 0:00:01\r\u001b[K     |███████████████████▋            | 737kB 12.4MB/s eta 0:00:01\r\u001b[K     |███████████████████▉            | 747kB 12.4MB/s eta 0:00:01\r\u001b[K     |████████████████████▏           | 757kB 12.4MB/s eta 0:00:01\r\u001b[K     |████████████████████▍           | 768kB 12.4MB/s eta 0:00:01\r\u001b[K     |████████████████████▊           | 778kB 12.4MB/s eta 0:00:01\r\u001b[K     |█████████████████████           | 788kB 12.4MB/s eta 0:00:01\r\u001b[K     |█████████████████████▎          | 798kB 12.4MB/s eta 0:00:01\r\u001b[K     |█████████████████████▌          | 808kB 12.4MB/s eta 0:00:01\r\u001b[K     |█████████████████████▉          | 819kB 12.4MB/s eta 0:00:01\r\u001b[K     |██████████████████████          | 829kB 12.4MB/s eta 0:00:01\r\u001b[K     |██████████████████████▎         | 839kB 12.4MB/s eta 0:00:01\r\u001b[K     |██████████████████████▋         | 849kB 12.4MB/s eta 0:00:01\r\u001b[K     |██████████████████████▉         | 860kB 12.4MB/s eta 0:00:01\r\u001b[K     |███████████████████████▏        | 870kB 12.4MB/s eta 0:00:01\r\u001b[K     |███████████████████████▍        | 880kB 12.4MB/s eta 0:00:01\r\u001b[K     |███████████████████████▊        | 890kB 12.4MB/s eta 0:00:01\r\u001b[K     |████████████████████████        | 901kB 12.4MB/s eta 0:00:01\r\u001b[K     |████████████████████████▎       | 911kB 12.4MB/s eta 0:00:01\r\u001b[K     |████████████████████████▌       | 921kB 12.4MB/s eta 0:00:01\r\u001b[K     |████████████████████████▊       | 931kB 12.4MB/s eta 0:00:01\r\u001b[K     |█████████████████████████       | 942kB 12.4MB/s eta 0:00:01\r\u001b[K     |█████████████████████████▎      | 952kB 12.4MB/s eta 0:00:01\r\u001b[K     |█████████████████████████▋      | 962kB 12.4MB/s eta 0:00:01\r\u001b[K     |█████████████████████████▉      | 972kB 12.4MB/s eta 0:00:01\r\u001b[K     |██████████████████████████▏     | 983kB 12.4MB/s eta 0:00:01\r\u001b[K     |██████████████████████████▍     | 993kB 12.4MB/s eta 0:00:01\r\u001b[K     |██████████████████████████▊     | 1.0MB 12.4MB/s eta 0:00:01\r\u001b[K     |███████████████████████████     | 1.0MB 12.4MB/s eta 0:00:01\r\u001b[K     |███████████████████████████▎    | 1.0MB 12.4MB/s eta 0:00:01\r\u001b[K     |███████████████████████████▌    | 1.0MB 12.4MB/s eta 0:00:01\r\u001b[K     |███████████████████████████▊    | 1.0MB 12.4MB/s eta 0:00:01\r\u001b[K     |████████████████████████████    | 1.1MB 12.4MB/s eta 0:00:01\r\u001b[K     |████████████████████████████▎   | 1.1MB 12.4MB/s eta 0:00:01\r\u001b[K     |████████████████████████████▋   | 1.1MB 12.4MB/s eta 0:00:01\r\u001b[K     |████████████████████████████▉   | 1.1MB 12.4MB/s eta 0:00:01\r\u001b[K     |█████████████████████████████▏  | 1.1MB 12.4MB/s eta 0:00:01\r\u001b[K     |█████████████████████████████▍  | 1.1MB 12.4MB/s eta 0:00:01\r\u001b[K     |█████████████████████████████▊  | 1.1MB 12.4MB/s eta 0:00:01\r\u001b[K     |██████████████████████████████  | 1.1MB 12.4MB/s eta 0:00:01\r\u001b[K     |██████████████████████████████▏ | 1.1MB 12.4MB/s eta 0:00:01\r\u001b[K     |██████████████████████████████▌ | 1.1MB 12.4MB/s eta 0:00:01\r\u001b[K     |██████████████████████████████▊ | 1.2MB 12.4MB/s eta 0:00:01\r\u001b[K     |███████████████████████████████ | 1.2MB 12.4MB/s eta 0:00:01\r\u001b[K     |███████████████████████████████▎| 1.2MB 12.4MB/s eta 0:00:01\r\u001b[K     |███████████████████████████████▋| 1.2MB 12.4MB/s eta 0:00:01\r\u001b[K     |███████████████████████████████▉| 1.2MB 12.4MB/s eta 0:00:01\r\u001b[K     |████████████████████████████████| 1.2MB 12.4MB/s \n",
            "\u001b[?25hInstalling collected packages: sentencepiece\n",
            "Successfully installed sentencepiece-0.1.95\n"
          ],
          "name": "stdout"
        }
      ]
    },
    {
      "cell_type": "code",
      "metadata": {
        "id": "_A3JMediI0rM"
      },
      "source": [
        "import sentencepiece as spm\n",
        "spm.SentencePieceTrainer.train('--input=/content/data.txt --model_prefix=body --vocab_size=8000')\n"
      ],
      "execution_count": 18,
      "outputs": []
    }
  ]
}